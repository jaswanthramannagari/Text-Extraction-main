{
 "cells": [
  {
   "cell_type": "code",
   "execution_count": 2,
   "id": "b71013df",
   "metadata": {},
   "outputs": [],
   "source": [
    "import numpy as np\n",
    "import cv2\n",
    "import os\n",
    "import glob\n",
    "import random\n",
    "from sklearn.utils import shuffle\n",
    "\n",
    "options = [\"Text\", \"Non-Text\"]"
   ]
  },
  {
   "cell_type": "code",
   "execution_count": 2,
   "id": "5b7e5797",
   "metadata": {},
   "outputs": [],
   "source": [
    "def get_images(option):\n",
    "    path = \"text_image_dataset/\"+option+\"/Train/*\"\n",
    "    train = glob.glob(path)\n",
    "    path = \"text_image_dataset/\"+option+\"/Test/*\"\n",
    "    test = glob.glob(path)\n",
    "    return train, test\n"
   ]
  },
  {
   "cell_type": "code",
   "execution_count": 3,
   "id": "ed4c2415",
   "metadata": {},
   "outputs": [],
   "source": [
    "def make_sets():\n",
    "    train_img = []\n",
    "    train_lable = []\n",
    "    test_img = []\n",
    "    test_lable = []\n",
    "    \n",
    "    for option in options:\n",
    "        training, testing = get_images(option)\n",
    "        \n",
    "        for item in training:\n",
    "            img = cv2.imread(item)\n",
    "            img = cv2.resize(img, (220, 220))\n",
    "            img = np.reshape(img, (145200))\n",
    "            train_img.append(img)\n",
    "            train_lable.append(options.index(option))\n",
    "            \n",
    "        for item in testing:\n",
    "            img = cv2.imread(item)\n",
    "            img = cv2.resize(img, (220, 220))\n",
    "            img = np.reshape(img, (145200))\n",
    "            test_img.append(img)\n",
    "            test_lable.append(options.index(option))\n",
    "        \n",
    "    return train_img, train_lable, test_img, test_lable"
   ]
  },
  {
   "cell_type": "code",
   "execution_count": 4,
   "id": "43311ceb",
   "metadata": {},
   "outputs": [],
   "source": [
    "train_img, train_lables, test_img, test_lables = make_sets()"
   ]
  },
  {
   "cell_type": "code",
   "execution_count": 5,
   "id": "5587908a",
   "metadata": {},
   "outputs": [
    {
     "data": {
      "text/plain": [
       "(145200,)"
      ]
     },
     "execution_count": 5,
     "metadata": {},
     "output_type": "execute_result"
    }
   ],
   "source": [
    "train_img[0].shape"
   ]
  },
  {
   "cell_type": "code",
   "execution_count": 6,
   "id": "0e126170",
   "metadata": {},
   "outputs": [],
   "source": [
    "from sklearn.naive_bayes import CategoricalNB\n",
    "\n",
    "gnb = CategoricalNB()"
   ]
  },
  {
   "cell_type": "code",
   "execution_count": 7,
   "id": "b00de6be",
   "metadata": {},
   "outputs": [
    {
     "data": {
      "text/plain": [
       "CategoricalNB()"
      ]
     },
     "execution_count": 7,
     "metadata": {},
     "output_type": "execute_result"
    }
   ],
   "source": [
    "gnb.fit(train_img,train_lables)"
   ]
  },
  {
   "cell_type": "code",
   "execution_count": 8,
   "id": "e2f6d90b",
   "metadata": {},
   "outputs": [],
   "source": [
    "pred = gnb.predict(test_img)"
   ]
  },
  {
   "cell_type": "code",
   "execution_count": 9,
   "id": "31ff03b0",
   "metadata": {},
   "outputs": [
    {
     "data": {
      "text/plain": [
       "0.8116438356164384"
      ]
     },
     "execution_count": 9,
     "metadata": {},
     "output_type": "execute_result"
    }
   ],
   "source": [
    "from sklearn.metrics import accuracy_score\n",
    "\n",
    "accuracy_score(pred, test_lables)"
   ]
  },
  {
   "cell_type": "code",
   "execution_count": 9,
   "id": "855da154",
   "metadata": {},
   "outputs": [
    {
     "name": "stdout",
     "output_type": "stream",
     "text": [
      "[1]\n"
     ]
    }
   ],
   "source": [
    "import joblib\n",
    "\n",
    "img = cv2.imread('image.jpg')\n",
    "img = cv2.resize(img, (220, 220))\n",
    "img = np.reshape(img, (145200))\n",
    "gnb1 = joblib.load('tnt_class.pkl')\n",
    "out = gnb1.predict(img.reshape(1,-1))\n",
    "print(out)"
   ]
  },
  {
   "cell_type": "code",
   "execution_count": null,
   "id": "23619f58",
   "metadata": {},
   "outputs": [],
   "source": [
    "import joblib\n",
    "joblib.dump(gnb,'tnt_class.pkl')"
   ]
  },
  {
   "cell_type": "code",
   "execution_count": null,
   "id": "f04c22c5",
   "metadata": {},
   "outputs": [],
   "source": []
  }
 ],
 "metadata": {
  "kernelspec": {
   "display_name": "Python 3 (ipykernel)",
   "language": "python",
   "name": "python3"
  },
  "language_info": {
   "codemirror_mode": {
    "name": "ipython",
    "version": 3
   },
   "file_extension": ".py",
   "mimetype": "text/x-python",
   "name": "python",
   "nbconvert_exporter": "python",
   "pygments_lexer": "ipython3",
   "version": "3.9.7"
  }
 },
 "nbformat": 4,
 "nbformat_minor": 5
}
